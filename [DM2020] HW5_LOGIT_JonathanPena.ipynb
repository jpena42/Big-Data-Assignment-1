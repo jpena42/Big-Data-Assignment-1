{
  "nbformat": 4,
  "nbformat_minor": 0,
  "metadata": {
    "colab": {
      "name": "HW5_LOGIT_JonathanPena",
      "provenance": []
    },
    "kernelspec": {
      "name": "python3",
      "display_name": "Python 3"
    }
  },
  "cells": [
    {
      "cell_type": "code",
      "metadata": {
        "id": "1WBGIsrxzjmZ",
        "colab": {
          "resources": {
            "http://localhost:8080/nbextensions/google.colab/files.js": {
              "data": "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",
              "ok": true,
              "headers": [
                [
                  "content-type",
                  "application/javascript"
                ]
              ],
              "status": 200,
              "status_text": ""
            }
          },
          "base_uri": "https://localhost:8080/",
          "height": 73
        },
        "outputId": "2fe95576-1be3-4fbf-9449-ed6a58ee434a"
      },
      "source": [
        "# Loading CSV File to Colab\n",
        "\n",
        "from google.colab import files\n",
        "uploaded = files.upload()"
      ],
      "execution_count": 1,
      "outputs": [
        {
          "output_type": "display_data",
          "data": {
            "text/html": [
              "\n",
              "     <input type=\"file\" id=\"files-469103ad-c856-4229-b794-8e0cfa70ba0e\" name=\"files[]\" multiple disabled\n",
              "        style=\"border:none\" />\n",
              "     <output id=\"result-469103ad-c856-4229-b794-8e0cfa70ba0e\">\n",
              "      Upload widget is only available when the cell has been executed in the\n",
              "      current browser session. Please rerun this cell to enable.\n",
              "      </output>\n",
              "      <script src=\"/nbextensions/google.colab/files.js\"></script> "
            ],
            "text/plain": [
              "<IPython.core.display.HTML object>"
            ]
          },
          "metadata": {
            "tags": []
          }
        },
        {
          "output_type": "stream",
          "text": [
            "Saving HW4_FlightDelays.csv to HW4_FlightDelays.csv\n"
          ],
          "name": "stdout"
        }
      ]
    },
    {
      "cell_type": "code",
      "metadata": {
        "id": "TOcg-8FsztYk"
      },
      "source": [
        "# Importing Pandas\n",
        "\n",
        "import pandas as pd"
      ],
      "execution_count": 2,
      "outputs": []
    },
    {
      "cell_type": "code",
      "metadata": {
        "id": "jCHXt2tKz1ib",
        "colab": {
          "base_uri": "https://localhost:8080/"
        },
        "outputId": "cca7f8dc-4d05-40dc-e68b-8a2777463e15"
      },
      "source": [
        "# Data Acquisition\n",
        "\n",
        "# Read data into the data frame\n",
        "df = pd.read_csv('HW4_FlightDelays.csv')\n",
        "\n",
        "# Displaying first 10 rows\n",
        "print(df.head(10))\n",
        "\n",
        "# Displaying the variable list\n",
        "print(df.columns.values)\n",
        "\n",
        "# Displaying number of rows and columns in our CSV file\n",
        "print(df.shape)"
      ],
      "execution_count": 3,
      "outputs": [
        {
          "output_type": "stream",
          "text": [
            "   Binned_CRS_DEP_TIME CARRIER DEST ORIGIN  Weather  DAY_WEEK Flight_Status\n",
            "0                    5      DH  LGA    IAD        0         5       Delayed\n",
            "1                    3      DH  LGA    IAD        0         5       Delayed\n",
            "2                    8      DH  JFK    IAD        0         5       Delayed\n",
            "3                    4      DH  EWR    IAD        0         5       Delayed\n",
            "4                    5      DH  EWR    IAD        0         5       Delayed\n",
            "5                    5      RU  EWR    IAD        0         5       Delayed\n",
            "6                    8      DH  JFK    IAD        0         6       Delayed\n",
            "7                    5      DL  JFK    DCA        0         6       Delayed\n",
            "8                    5      MQ  JFK    DCA        0         6       Delayed\n",
            "9                    2      DH  EWR    IAD        0         6       Delayed\n",
            "['Binned_CRS_DEP_TIME' 'CARRIER' 'DEST' 'ORIGIN' 'Weather' 'DAY_WEEK'\n",
            " 'Flight_Status']\n",
            "(1319, 7)\n"
          ],
          "name": "stdout"
        }
      ]
    },
    {
      "cell_type": "code",
      "metadata": {
        "id": "bAGsIkTP_IJ3"
      },
      "source": [
        "df = df.rename(columns={'Flight_Status': 'Delayed'})"
      ],
      "execution_count": 4,
      "outputs": []
    },
    {
      "cell_type": "code",
      "metadata": {
        "id": "tbRKYaV09pjZ"
      },
      "source": [
        "# Replacing Delayed values to Yes/No\n",
        "df = df.replace (['Delayed'], 'Yes')\n",
        "df = df.replace (['On-time'], 'No')"
      ],
      "execution_count": 5,
      "outputs": []
    },
    {
      "cell_type": "code",
      "metadata": {
        "id": "8YAqolWKAPoW",
        "colab": {
          "base_uri": "https://localhost:8080/"
        },
        "outputId": "024194d8-8301-4273-b969-d17754b1bb8d"
      },
      "source": [
        "# Show new df sample\n",
        "print(df.columns.values)\n",
        "\n",
        "print(df.head(10))"
      ],
      "execution_count": 6,
      "outputs": [
        {
          "output_type": "stream",
          "text": [
            "['Binned_CRS_DEP_TIME' 'CARRIER' 'DEST' 'ORIGIN' 'Weather' 'DAY_WEEK'\n",
            " 'Delayed']\n",
            "   Binned_CRS_DEP_TIME CARRIER DEST ORIGIN  Weather  DAY_WEEK Delayed\n",
            "0                    5      DH  LGA    IAD        0         5     Yes\n",
            "1                    3      DH  LGA    IAD        0         5     Yes\n",
            "2                    8      DH  JFK    IAD        0         5     Yes\n",
            "3                    4      DH  EWR    IAD        0         5     Yes\n",
            "4                    5      DH  EWR    IAD        0         5     Yes\n",
            "5                    5      RU  EWR    IAD        0         5     Yes\n",
            "6                    8      DH  JFK    IAD        0         6     Yes\n",
            "7                    5      DL  JFK    DCA        0         6     Yes\n",
            "8                    5      MQ  JFK    DCA        0         6     Yes\n",
            "9                    2      DH  EWR    IAD        0         6     Yes\n"
          ],
          "name": "stdout"
        }
      ]
    },
    {
      "cell_type": "code",
      "metadata": {
        "id": "XLvuy0Yd0g8l",
        "colab": {
          "base_uri": "https://localhost:8080/"
        },
        "outputId": "bef5d942-7d54-40a8-9186-f5e48c7307d3"
      },
      "source": [
        "# Missing Values\n",
        "\n",
        "# Showing the number of missing values\n",
        "df.isnull().sum()\n",
        "\n",
        "rvar_list = ['Weather']\n",
        "df_sample1 = df.drop(columns= ['Weather'])\n",
        "\n",
        "# Separating all variables into their respective list\n",
        "cvar_list = ['CARRIER', 'DEST', 'ORIGIN', 'DAY_WEEK', 'Delayed', 'Binned_CRS_DEP_TIME']\n",
        "\n",
        "# Checking if there are any missing values in our Df\n",
        "df_sample1.isnull().sum()"
      ],
      "execution_count": 7,
      "outputs": [
        {
          "output_type": "execute_result",
          "data": {
            "text/plain": [
              "Binned_CRS_DEP_TIME    0\n",
              "CARRIER                0\n",
              "DEST                   0\n",
              "ORIGIN                 0\n",
              "DAY_WEEK               0\n",
              "Delayed                0\n",
              "dtype: int64"
            ]
          },
          "metadata": {
            "tags": []
          },
          "execution_count": 7
        }
      ]
    },
    {
      "cell_type": "code",
      "metadata": {
        "id": "XVX6OXk9B5D3",
        "colab": {
          "base_uri": "https://localhost:8080/"
        },
        "outputId": "6eb73cac-92ca-44e7-b3bd-b4c7646d29cb"
      },
      "source": [
        "print(df.columns.values)"
      ],
      "execution_count": 8,
      "outputs": [
        {
          "output_type": "stream",
          "text": [
            "['Binned_CRS_DEP_TIME' 'CARRIER' 'DEST' 'ORIGIN' 'Weather' 'DAY_WEEK'\n",
            " 'Delayed']\n"
          ],
          "name": "stdout"
        }
      ]
    },
    {
      "cell_type": "code",
      "metadata": {
        "id": "Sy5UEEGa-jqf",
        "colab": {
          "base_uri": "https://localhost:8080/"
        },
        "outputId": "5cb6fc7c-d14e-43c1-8a6d-711edb867d3c"
      },
      "source": [
        "# Variable Transformation\n",
        "\n",
        "# Standardizing Numerical Variables\n",
        "df_sample2 = df_sample1.copy()\n",
        "\n",
        "\n",
        "# Setting datatype for Categorical/Numerical Predictors\n",
        "df_sample3 = df_sample2.copy()\n",
        "df_sample3[cvar_list] = df_sample2[cvar_list].astype('category')\n",
        "\n",
        "# Converting Categorical variables into dummies (Step 1)\n",
        "df_sample4 = df_sample3.copy()\n",
        "df_sample4 = pd.get_dummies(df_sample3, prefix_sep='_')\n",
        "\n",
        "# Removing redundant dummies (Step 2)\n",
        "# Placeholder variable: rdummies\n",
        "\n",
        "rdummies = ['CARRIER_DH', 'DEST_LGA', 'ORIGIN_DCA', 'DAY_WEEK_5', 'Delayed_No']\n",
        "df_sample5 = df_sample4.copy()\n",
        "df_sample5 = df_sample4.drop(columns=rdummies)\n",
        "\n",
        "# Get our remaining variables list after variable transformation\n",
        "print(df_sample5.columns.values)\n",
        "\n",
        "# Displaying new dataframe and comparing it with original\n",
        "print(df_sample5)\n",
        "print(df)"
      ],
      "execution_count": 9,
      "outputs": [
        {
          "output_type": "stream",
          "text": [
            "['Binned_CRS_DEP_TIME_1' 'Binned_CRS_DEP_TIME_2' 'Binned_CRS_DEP_TIME_3'\n",
            " 'Binned_CRS_DEP_TIME_4' 'Binned_CRS_DEP_TIME_5' 'Binned_CRS_DEP_TIME_6'\n",
            " 'Binned_CRS_DEP_TIME_7' 'Binned_CRS_DEP_TIME_8' 'CARRIER_CO' 'CARRIER_DL'\n",
            " 'CARRIER_MQ' 'CARRIER_OH' 'CARRIER_RU' 'CARRIER_UA' 'CARRIER_US'\n",
            " 'DEST_EWR' 'DEST_JFK' 'ORIGIN_BWI' 'ORIGIN_IAD' 'DAY_WEEK_1' 'DAY_WEEK_2'\n",
            " 'DAY_WEEK_3' 'DAY_WEEK_4' 'DAY_WEEK_6' 'DAY_WEEK_7' 'Delayed_Yes']\n",
            "      Binned_CRS_DEP_TIME_1  Binned_CRS_DEP_TIME_2  ...  DAY_WEEK_7  Delayed_Yes\n",
            "0                         0                      0  ...           0            1\n",
            "1                         0                      0  ...           0            1\n",
            "2                         0                      0  ...           0            1\n",
            "3                         0                      0  ...           0            1\n",
            "4                         0                      0  ...           0            1\n",
            "...                     ...                    ...  ...         ...          ...\n",
            "1314                      1                      0  ...           0            0\n",
            "1315                      0                      0  ...           0            0\n",
            "1316                      0                      0  ...           0            0\n",
            "1317                      0                      0  ...           0            0\n",
            "1318                      0                      0  ...           0            0\n",
            "\n",
            "[1319 rows x 26 columns]\n",
            "      Binned_CRS_DEP_TIME CARRIER DEST ORIGIN  Weather  DAY_WEEK Delayed\n",
            "0                       5      DH  LGA    IAD        0         5     Yes\n",
            "1                       3      DH  LGA    IAD        0         5     Yes\n",
            "2                       8      DH  JFK    IAD        0         5     Yes\n",
            "3                       4      DH  EWR    IAD        0         5     Yes\n",
            "4                       5      DH  EWR    IAD        0         5     Yes\n",
            "...                   ...     ...  ...    ...      ...       ...     ...\n",
            "1314                    1      RU  EWR    DCA        0         6      No\n",
            "1315                    6      RU  EWR    IAD        0         6      No\n",
            "1316                    6      RU  EWR    DCA        0         6      No\n",
            "1317                    4      RU  EWR    DCA        0         6      No\n",
            "1318                    6      RU  EWR    DCA        0         6      No\n",
            "\n",
            "[1319 rows x 7 columns]\n"
          ],
          "name": "stdout"
        }
      ]
    },
    {
      "cell_type": "code",
      "metadata": {
        "id": "oWu8Fo0fEgvm",
        "colab": {
          "base_uri": "https://localhost:8080/"
        },
        "outputId": "c49c6353-a413-4d14-b1ce-44b33f819065"
      },
      "source": [
        "# Data Partition\n",
        "\n",
        "# Import sklean package\n",
        "# Import model _selection package\n",
        "from sklearn.model_selection import train_test_split\n",
        "\n",
        "# Use placeholder variables for our partition and test size\n",
        "df4partition = df_sample5\n",
        "testpart_size = 0.2\n",
        "\n",
        "# Import Random State equation for random number generator\n",
        "df_nontestData, df_testData = train_test_split(df4partition, test_size=testpart_size, random_state=1)\n",
        "\n",
        "print(df_nontestData)"
      ],
      "execution_count": 10,
      "outputs": [
        {
          "output_type": "stream",
          "text": [
            "      Binned_CRS_DEP_TIME_1  Binned_CRS_DEP_TIME_2  ...  DAY_WEEK_7  Delayed_Yes\n",
            "710                       0                      0  ...           0            0\n",
            "1258                      0                      0  ...           0            0\n",
            "435                       0                      0  ...           0            0\n",
            "987                       0                      0  ...           0            1\n",
            "1286                      0                      0  ...           0            0\n",
            "...                     ...                    ...  ...         ...          ...\n",
            "715                       0                      0  ...           0            0\n",
            "905                       0                      1  ...           1            0\n",
            "1096                      0                      0  ...           0            1\n",
            "235                       0                      0  ...           0            1\n",
            "1061                      0                      1  ...           0            1\n",
            "\n",
            "[1055 rows x 26 columns]\n"
          ],
          "name": "stdout"
        }
      ]
    },
    {
      "cell_type": "code",
      "metadata": {
        "id": "ZktTm9wh3vQP",
        "colab": {
          "base_uri": "https://localhost:8080/"
        },
        "outputId": "da0ab78a-e403-4bd5-9450-42d2ba0d5bb8"
      },
      "source": [
        "# Builing our Logistic Regression with a penalty level\n",
        "# Import sklean package\n",
        "# Import linear_model subpackage\n",
        "# Using function name: LogisticRegression, LogisticRegressionCV\n",
        "\n",
        "from sklearn.linear_model import LogisticRegression, LogisticRegressionCV\n",
        "\n",
        "# Separate the predictor values and the DV values into x and y\n",
        "DV = 'Delayed_Yes'\n",
        "y = df_nontestData[DV]\n",
        "x = df_nontestData.drop(columns=[DV])\n",
        "\n",
        "# Running Logistic Regression with our pre-specified penalty level (alpha)\n",
        "alpha = 10\n",
        "\n",
        "# Putting our logistic regresion results into a Lasso model defines as clf\n",
        "clf = LogisticRegression (C=1/alpha, penalty='l1', solver='saga', max_iter=200,  random_state=1).fit(x,y)\n",
        "\n",
        "# Using the summary_coef function\n",
        "# Displaying the estimated coefficients of our model candidate after our Lasso analysis\n",
        "# Input: a Lasso model object which is the output of the function Lasso \n",
        "# Output: the estimated coefficients of the model candidate reported by the input Lasso model object\n",
        "def summary_coef(model_object):\n",
        "  n_predictors = x.shape[1]\n",
        "  model_coef = pd.DataFrame(model_object.coef_.reshape(1, n_predictors), columns=x.columns.values)\n",
        "  model_coef['Intercept'] = model_object.intercept_\n",
        "  return model_coef.transpose()\n",
        "\n",
        "print(summary_coef(clf))"
      ],
      "execution_count": 11,
      "outputs": [
        {
          "output_type": "stream",
          "text": [
            "                              0\n",
            "Binned_CRS_DEP_TIME_1  0.000000\n",
            "Binned_CRS_DEP_TIME_2  0.000000\n",
            "Binned_CRS_DEP_TIME_3  0.000000\n",
            "Binned_CRS_DEP_TIME_4  0.000000\n",
            "Binned_CRS_DEP_TIME_5  0.172528\n",
            "Binned_CRS_DEP_TIME_6  0.000000\n",
            "Binned_CRS_DEP_TIME_7  0.000000\n",
            "Binned_CRS_DEP_TIME_8  0.000000\n",
            "CARRIER_CO             0.000000\n",
            "CARRIER_DL            -0.330596\n",
            "CARRIER_MQ             0.099794\n",
            "CARRIER_OH             0.000000\n",
            "CARRIER_RU             0.000000\n",
            "CARRIER_UA             0.000000\n",
            "CARRIER_US            -0.838443\n",
            "DEST_EWR               0.000000\n",
            "DEST_JFK               0.000000\n",
            "ORIGIN_BWI             0.000000\n",
            "ORIGIN_IAD             0.000000\n",
            "DAY_WEEK_1             0.300598\n",
            "DAY_WEEK_2             0.019947\n",
            "DAY_WEEK_3             0.000000\n",
            "DAY_WEEK_4            -0.058436\n",
            "DAY_WEEK_6            -0.515152\n",
            "DAY_WEEK_7             0.163570\n",
            "Intercept             -0.630544\n"
          ],
          "name": "stdout"
        }
      ]
    },
    {
      "cell_type": "code",
      "metadata": {
        "id": "N2Rzl8El_5X7",
        "colab": {
          "base_uri": "https://localhost:8080/"
        },
        "outputId": "33bd3528-2814-4943-e2d5-55ed5a04a330"
      },
      "source": [
        "# Running Logistic Regression with k-fold cross validation > k=5\n",
        "# Placeholder variable: kfolds\n",
        "kfolds = 5\n",
        "\n",
        "# Establishing Minimum and Maximum Alpha Values\n",
        "min_alpha= 0.001\n",
        "max_alpha= 100\n",
        "\n",
        "# Setting the number of candidates to 1000\n",
        "n_candidates = 1000\n",
        "\n",
        "# Importing numpy as np\n",
        "import numpy as np\n",
        "alpha_list = list(np.linspace(min_alpha, max_alpha, num=n_candidates))\n",
        "C_list = list(1/np.linspace(min_alpha, max_alpha, num=n_candidates))\n",
        "\n",
        "#print(alpha_list) \n",
        "#print(C_list)\n",
        "\n",
        "# Setting n_jobs to be -1 to run out LogisticRegressionCV on all CPU cores \n",
        "clf_optimal = LogisticRegressionCV(Cs=C_list, cv=kfolds, penalty='l1', solver='saga', max_iter=200, random_state=1, n_jobs=-1).fit(x,y)\n",
        "print(summary_coef(clf_optimal))\n",
        "\n",
        "# Displaying the optimal alpha \n",
        "print(1/clf_optimal.C_)\n",
        "\n",
        "# y_test_actual is the actual values of the DV in our test partition\n",
        "y_test_actual = df_testData[DV]\n",
        "\n",
        "# x_test is the predictor values in the test partition\n",
        "x_test = df_testData.drop(columns=[DV])\n",
        "\n",
        "# Use predict method of the clf_optimal object to apply the model associated with clf_optimal to the test partition\n",
        "# y_test_predicted is the predicted values of the DV in the test partition \n",
        "y_test_predicted = clf_optimal.predict(x_test)\n",
        "\n",
        "from sklearn import  metrics  \n",
        "print(metrics.confusion_matrix(y_test_actual, y_test_predicted))\n",
        "\n",
        "print(clf_optimal.score(x_test, y_test_actual))\n",
        "\n",
        "from sklearn.metrics import roc_auc_score\n",
        "print(roc_auc_score(y_test_actual, clf_optimal.predict_proba(x_test)[:,1]))"
      ],
      "execution_count": 12,
      "outputs": [
        {
          "output_type": "stream",
          "text": [
            "/usr/local/lib/python3.6/dist-packages/sklearn/linear_model/_sag.py:330: ConvergenceWarning: The max_iter was reached which means the coef_ did not converge\n",
            "  \"the coef_ did not converge\", ConvergenceWarning)\n"
          ],
          "name": "stderr"
        },
        {
          "output_type": "stream",
          "text": [
            "                              0\n",
            "Binned_CRS_DEP_TIME_1 -0.335554\n",
            "Binned_CRS_DEP_TIME_2 -0.425368\n",
            "Binned_CRS_DEP_TIME_3 -0.545961\n",
            "Binned_CRS_DEP_TIME_4 -0.419160\n",
            "Binned_CRS_DEP_TIME_5  0.437243\n",
            "Binned_CRS_DEP_TIME_6  0.114702\n",
            "Binned_CRS_DEP_TIME_7  0.238921\n",
            "Binned_CRS_DEP_TIME_8  0.403387\n",
            "CARRIER_CO             0.473355\n",
            "CARRIER_DL            -0.481046\n",
            "CARRIER_MQ             0.602912\n",
            "CARRIER_OH            -1.099625\n",
            "CARRIER_RU             0.000000\n",
            "CARRIER_UA            -0.054372\n",
            "CARRIER_US            -1.086759\n",
            "DEST_EWR               0.025906\n",
            "DEST_JFK              -0.185119\n",
            "ORIGIN_BWI             0.439136\n",
            "ORIGIN_IAD             0.293602\n",
            "DAY_WEEK_1             0.852703\n",
            "DAY_WEEK_2             0.531484\n",
            "DAY_WEEK_3             0.177252\n",
            "DAY_WEEK_4            -0.160294\n",
            "DAY_WEEK_6            -0.800283\n",
            "DAY_WEEK_7             0.662170\n",
            "Intercept             -0.948981\n",
            "[0.3012973]\n",
            "[[154  16]\n",
            " [ 69  25]]\n",
            "0.678030303030303\n",
            "0.7042240300375469\n"
          ],
          "name": "stdout"
        }
      ]
    }
  ]
}